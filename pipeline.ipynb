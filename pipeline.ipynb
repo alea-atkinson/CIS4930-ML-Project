{
 "cells": [
  {
   "cell_type": "markdown",
   "id": "619911fb",
   "metadata": {},
   "source": [
    "Imports"
   ]
  },
  {
   "cell_type": "code",
   "execution_count": 1,
   "id": "9990595c",
   "metadata": {},
   "outputs": [
    {
     "ename": "ModuleNotFoundError",
     "evalue": "No module named 'optuna'",
     "output_type": "error",
     "traceback": [
      "\u001b[1;31m---------------------------------------------------------------------------\u001b[0m",
      "\u001b[1;31mModuleNotFoundError\u001b[0m                       Traceback (most recent call last)",
      "Cell \u001b[1;32mIn[1], line 6\u001b[0m\n\u001b[0;32m      4\u001b[0m \u001b[38;5;28;01mimport\u001b[39;00m \u001b[38;5;21;01mnumpy\u001b[39;00m \u001b[38;5;28;01mas\u001b[39;00m \u001b[38;5;21;01mnp\u001b[39;00m\n\u001b[0;32m      5\u001b[0m \u001b[38;5;28;01mimport\u001b[39;00m \u001b[38;5;21;01mhelpers\u001b[39;00m\u001b[38;5;21;01m.\u001b[39;00m\u001b[38;5;21;01mevaluate\u001b[39;00m\n\u001b[1;32m----> 6\u001b[0m \u001b[38;5;28;01mfrom\u001b[39;00m \u001b[38;5;21;01mhelpers\u001b[39;00m\u001b[38;5;21;01m.\u001b[39;00m\u001b[38;5;21;01mmodel_list\u001b[39;00m \u001b[38;5;28;01mimport\u001b[39;00m model_map\n\u001b[0;32m      8\u001b[0m \u001b[38;5;66;03m#Import models\u001b[39;00m\n\u001b[0;32m      9\u001b[0m models \u001b[38;5;241m=\u001b[39m {name: model_class() \u001b[38;5;28;01mfor\u001b[39;00m name, model_class \u001b[38;5;129;01min\u001b[39;00m model_map\u001b[38;5;241m.\u001b[39mitems()}\n",
      "File \u001b[1;32mc:\\Users\\Seth\\Desktop\\Spring 25\\Algorithm\\Project\\CIS4930-ML-Project\\helpers\\model_list.py:4\u001b[0m\n\u001b[0;32m      2\u001b[0m \u001b[38;5;28;01mfrom\u001b[39;00m \u001b[38;5;21;01mmodels\u001b[39;00m\u001b[38;5;21;01m.\u001b[39;00m\u001b[38;5;21;01mlogisticRegression\u001b[39;00m \u001b[38;5;28;01mimport\u001b[39;00m logisticRegression\n\u001b[0;32m      3\u001b[0m \u001b[38;5;28;01mfrom\u001b[39;00m \u001b[38;5;21;01mmodels\u001b[39;00m\u001b[38;5;21;01m.\u001b[39;00m\u001b[38;5;21;01mkNearestNeighbors\u001b[39;00m \u001b[38;5;28;01mimport\u001b[39;00m kNearestNeighbors\n\u001b[1;32m----> 4\u001b[0m \u001b[38;5;28;01mfrom\u001b[39;00m \u001b[38;5;21;01mmodels\u001b[39;00m\u001b[38;5;21;01m.\u001b[39;00m\u001b[38;5;21;01msvc\u001b[39;00m \u001b[38;5;28;01mimport\u001b[39;00m svc\n\u001b[0;32m      6\u001b[0m \u001b[38;5;66;03m# model dictionary for pipelines\u001b[39;00m\n\u001b[0;32m      7\u001b[0m model_map \u001b[38;5;241m=\u001b[39m {\n\u001b[0;32m      8\u001b[0m     \u001b[38;5;124m\"\u001b[39m\u001b[38;5;124mDecision Tree\u001b[39m\u001b[38;5;124m\"\u001b[39m: decisionTree,\n\u001b[0;32m      9\u001b[0m     \u001b[38;5;124m\"\u001b[39m\u001b[38;5;124mLogistic Regression\u001b[39m\u001b[38;5;124m\"\u001b[39m: logisticRegression,\n\u001b[0;32m     10\u001b[0m     \u001b[38;5;124m\"\u001b[39m\u001b[38;5;124mK Nearest Neighbors\u001b[39m\u001b[38;5;124m\"\u001b[39m: kNearestNeighbors,\n\u001b[0;32m     11\u001b[0m     \u001b[38;5;124m\"\u001b[39m\u001b[38;5;124mSVC\u001b[39m\u001b[38;5;124m\"\u001b[39m: svc\n\u001b[0;32m     12\u001b[0m }\n",
      "File \u001b[1;32mc:\\Users\\Seth\\Desktop\\Spring 25\\Algorithm\\Project\\CIS4930-ML-Project\\models\\svc.py:4\u001b[0m\n\u001b[0;32m      2\u001b[0m \u001b[38;5;28;01mfrom\u001b[39;00m \u001b[38;5;21;01mhelpers\u001b[39;00m\u001b[38;5;21;01m.\u001b[39;00m\u001b[38;5;21;01mevaluate\u001b[39;00m \u001b[38;5;28;01mimport\u001b[39;00m evaluate_model\n\u001b[0;32m      3\u001b[0m \u001b[38;5;28;01mfrom\u001b[39;00m \u001b[38;5;21;01msklearn\u001b[39;00m\u001b[38;5;21;01m.\u001b[39;00m\u001b[38;5;21;01mmodel_selection\u001b[39;00m \u001b[38;5;28;01mimport\u001b[39;00m cross_val_score, StratifiedKFold\n\u001b[1;32m----> 4\u001b[0m \u001b[38;5;28;01mimport\u001b[39;00m \u001b[38;5;21;01moptuna\u001b[39;00m\n\u001b[0;32m      6\u001b[0m \u001b[38;5;28;01mclass\u001b[39;00m \u001b[38;5;21;01msvc\u001b[39;00m():\n\u001b[0;32m      7\u001b[0m     \u001b[38;5;28;01mdef\u001b[39;00m \u001b[38;5;21m__init__\u001b[39m(\u001b[38;5;28mself\u001b[39m):\n",
      "\u001b[1;31mModuleNotFoundError\u001b[0m: No module named 'optuna'"
     ]
    }
   ],
   "source": [
    "from sklearn.preprocessing import StandardScaler, MinMaxScaler, LabelEncoder\n",
    "from sklearn.model_selection import train_test_split\n",
    "import pandas as pd\n",
    "import numpy as np\n",
    "import helpers.evaluate\n",
    "from helpers.model_list import model_map\n",
    "\n",
    "#Import models\n",
    "models = {name: model_class() for name, model_class in model_map.items()}"
   ]
  },
  {
   "cell_type": "markdown",
   "id": "2c5f9cd1",
   "metadata": {},
   "source": [
    "Load in Data"
   ]
  },
  {
   "cell_type": "code",
   "execution_count": null,
   "id": "9e237b72",
   "metadata": {},
   "outputs": [
    {
     "data": {
      "text/html": [
       "<div>\n",
       "<style scoped>\n",
       "    .dataframe tbody tr th:only-of-type {\n",
       "        vertical-align: middle;\n",
       "    }\n",
       "\n",
       "    .dataframe tbody tr th {\n",
       "        vertical-align: top;\n",
       "    }\n",
       "\n",
       "    .dataframe thead th {\n",
       "        text-align: right;\n",
       "    }\n",
       "</style>\n",
       "<table border=\"1\" class=\"dataframe\">\n",
       "  <thead>\n",
       "    <tr style=\"text-align: right;\">\n",
       "      <th></th>\n",
       "      <th>Diabetes_binary</th>\n",
       "      <th>HighBP</th>\n",
       "      <th>HighChol</th>\n",
       "      <th>CholCheck</th>\n",
       "      <th>BMI</th>\n",
       "      <th>Smoker</th>\n",
       "      <th>Stroke</th>\n",
       "      <th>HeartDiseaseorAttack</th>\n",
       "      <th>PhysActivity</th>\n",
       "      <th>Fruits</th>\n",
       "      <th>...</th>\n",
       "      <th>AnyHealthcare</th>\n",
       "      <th>NoDocbcCost</th>\n",
       "      <th>GenHlth</th>\n",
       "      <th>MentHlth</th>\n",
       "      <th>PhysHlth</th>\n",
       "      <th>DiffWalk</th>\n",
       "      <th>Sex</th>\n",
       "      <th>Age</th>\n",
       "      <th>Education</th>\n",
       "      <th>Income</th>\n",
       "    </tr>\n",
       "  </thead>\n",
       "  <tbody>\n",
       "    <tr>\n",
       "      <th>0</th>\n",
       "      <td>0.0</td>\n",
       "      <td>1.0</td>\n",
       "      <td>0.0</td>\n",
       "      <td>1.0</td>\n",
       "      <td>26.0</td>\n",
       "      <td>0.0</td>\n",
       "      <td>0.0</td>\n",
       "      <td>0.0</td>\n",
       "      <td>1.0</td>\n",
       "      <td>0.0</td>\n",
       "      <td>...</td>\n",
       "      <td>1.0</td>\n",
       "      <td>0.0</td>\n",
       "      <td>3.0</td>\n",
       "      <td>5.0</td>\n",
       "      <td>30.0</td>\n",
       "      <td>0.0</td>\n",
       "      <td>1.0</td>\n",
       "      <td>4.0</td>\n",
       "      <td>6.0</td>\n",
       "      <td>8.0</td>\n",
       "    </tr>\n",
       "    <tr>\n",
       "      <th>1</th>\n",
       "      <td>0.0</td>\n",
       "      <td>1.0</td>\n",
       "      <td>1.0</td>\n",
       "      <td>1.0</td>\n",
       "      <td>26.0</td>\n",
       "      <td>1.0</td>\n",
       "      <td>1.0</td>\n",
       "      <td>0.0</td>\n",
       "      <td>0.0</td>\n",
       "      <td>1.0</td>\n",
       "      <td>...</td>\n",
       "      <td>1.0</td>\n",
       "      <td>0.0</td>\n",
       "      <td>3.0</td>\n",
       "      <td>0.0</td>\n",
       "      <td>0.0</td>\n",
       "      <td>0.0</td>\n",
       "      <td>1.0</td>\n",
       "      <td>12.0</td>\n",
       "      <td>6.0</td>\n",
       "      <td>8.0</td>\n",
       "    </tr>\n",
       "    <tr>\n",
       "      <th>2</th>\n",
       "      <td>0.0</td>\n",
       "      <td>0.0</td>\n",
       "      <td>0.0</td>\n",
       "      <td>1.0</td>\n",
       "      <td>26.0</td>\n",
       "      <td>0.0</td>\n",
       "      <td>0.0</td>\n",
       "      <td>0.0</td>\n",
       "      <td>1.0</td>\n",
       "      <td>1.0</td>\n",
       "      <td>...</td>\n",
       "      <td>1.0</td>\n",
       "      <td>0.0</td>\n",
       "      <td>1.0</td>\n",
       "      <td>0.0</td>\n",
       "      <td>10.0</td>\n",
       "      <td>0.0</td>\n",
       "      <td>1.0</td>\n",
       "      <td>13.0</td>\n",
       "      <td>6.0</td>\n",
       "      <td>8.0</td>\n",
       "    </tr>\n",
       "    <tr>\n",
       "      <th>3</th>\n",
       "      <td>0.0</td>\n",
       "      <td>1.0</td>\n",
       "      <td>1.0</td>\n",
       "      <td>1.0</td>\n",
       "      <td>28.0</td>\n",
       "      <td>1.0</td>\n",
       "      <td>0.0</td>\n",
       "      <td>0.0</td>\n",
       "      <td>1.0</td>\n",
       "      <td>1.0</td>\n",
       "      <td>...</td>\n",
       "      <td>1.0</td>\n",
       "      <td>0.0</td>\n",
       "      <td>3.0</td>\n",
       "      <td>0.0</td>\n",
       "      <td>3.0</td>\n",
       "      <td>0.0</td>\n",
       "      <td>1.0</td>\n",
       "      <td>11.0</td>\n",
       "      <td>6.0</td>\n",
       "      <td>8.0</td>\n",
       "    </tr>\n",
       "    <tr>\n",
       "      <th>4</th>\n",
       "      <td>0.0</td>\n",
       "      <td>0.0</td>\n",
       "      <td>0.0</td>\n",
       "      <td>1.0</td>\n",
       "      <td>29.0</td>\n",
       "      <td>1.0</td>\n",
       "      <td>0.0</td>\n",
       "      <td>0.0</td>\n",
       "      <td>1.0</td>\n",
       "      <td>1.0</td>\n",
       "      <td>...</td>\n",
       "      <td>1.0</td>\n",
       "      <td>0.0</td>\n",
       "      <td>2.0</td>\n",
       "      <td>0.0</td>\n",
       "      <td>0.0</td>\n",
       "      <td>0.0</td>\n",
       "      <td>0.0</td>\n",
       "      <td>8.0</td>\n",
       "      <td>5.0</td>\n",
       "      <td>8.0</td>\n",
       "    </tr>\n",
       "  </tbody>\n",
       "</table>\n",
       "<p>5 rows × 22 columns</p>\n",
       "</div>"
      ],
      "text/plain": [
       "   Diabetes_binary  HighBP  HighChol  CholCheck   BMI  Smoker  Stroke  \\\n",
       "0              0.0     1.0       0.0        1.0  26.0     0.0     0.0   \n",
       "1              0.0     1.0       1.0        1.0  26.0     1.0     1.0   \n",
       "2              0.0     0.0       0.0        1.0  26.0     0.0     0.0   \n",
       "3              0.0     1.0       1.0        1.0  28.0     1.0     0.0   \n",
       "4              0.0     0.0       0.0        1.0  29.0     1.0     0.0   \n",
       "\n",
       "   HeartDiseaseorAttack  PhysActivity  Fruits  ...  AnyHealthcare  \\\n",
       "0                   0.0           1.0     0.0  ...            1.0   \n",
       "1                   0.0           0.0     1.0  ...            1.0   \n",
       "2                   0.0           1.0     1.0  ...            1.0   \n",
       "3                   0.0           1.0     1.0  ...            1.0   \n",
       "4                   0.0           1.0     1.0  ...            1.0   \n",
       "\n",
       "   NoDocbcCost  GenHlth  MentHlth  PhysHlth  DiffWalk  Sex   Age  Education  \\\n",
       "0          0.0      3.0       5.0      30.0       0.0  1.0   4.0        6.0   \n",
       "1          0.0      3.0       0.0       0.0       0.0  1.0  12.0        6.0   \n",
       "2          0.0      1.0       0.0      10.0       0.0  1.0  13.0        6.0   \n",
       "3          0.0      3.0       0.0       3.0       0.0  1.0  11.0        6.0   \n",
       "4          0.0      2.0       0.0       0.0       0.0  0.0   8.0        5.0   \n",
       "\n",
       "   Income  \n",
       "0     8.0  \n",
       "1     8.0  \n",
       "2     8.0  \n",
       "3     8.0  \n",
       "4     8.0  \n",
       "\n",
       "[5 rows x 22 columns]"
      ]
     },
     "execution_count": 13,
     "metadata": {},
     "output_type": "execute_result"
    }
   ],
   "source": [
    "df = pd.read_csv(\"diabetes_binary_5050split_health_indicators_BRFSS2015.csv\")\n",
    "X = df.drop(columns=[\"Diabetes_binary\"])\n",
    "y = df[\"Diabetes_binary\"]\n",
    "df.head()"
   ]
  },
  {
   "cell_type": "markdown",
   "id": "96e96fcc",
   "metadata": {},
   "source": [
    "Explore Data"
   ]
  },
  {
   "cell_type": "code",
   "execution_count": null,
   "id": "17188797",
   "metadata": {},
   "outputs": [
    {
     "name": "stdout",
     "output_type": "stream",
     "text": [
      "Dataset shape: (70692, 22)\n",
      "\n",
      "Data types:\n",
      "Diabetes_binary         float64\n",
      "HighBP                  float64\n",
      "HighChol                float64\n",
      "CholCheck               float64\n",
      "BMI                     float64\n",
      "Smoker                  float64\n",
      "Stroke                  float64\n",
      "HeartDiseaseorAttack    float64\n",
      "PhysActivity            float64\n",
      "Fruits                  float64\n",
      "Veggies                 float64\n",
      "HvyAlcoholConsump       float64\n",
      "AnyHealthcare           float64\n",
      "NoDocbcCost             float64\n",
      "GenHlth                 float64\n",
      "MentHlth                float64\n",
      "PhysHlth                float64\n",
      "DiffWalk                float64\n",
      "Sex                     float64\n",
      "Age                     float64\n",
      "Education               float64\n",
      "Income                  float64\n",
      "dtype: object\n"
     ]
    }
   ],
   "source": [
    "print(\"Dataset shape:\", df.shape)\n",
    "print(\"\\nData types:\")\n",
    "print(df.dtypes)\n"
   ]
  },
  {
   "cell_type": "code",
   "execution_count": null,
   "id": "7fcc40fa",
   "metadata": {},
   "outputs": [
    {
     "name": "stdout",
     "output_type": "stream",
     "text": [
      "\n",
      "Summary statistics:\n",
      "       Diabetes_binary        HighBP      HighChol     CholCheck  \\\n",
      "count     70692.000000  70692.000000  70692.000000  70692.000000   \n",
      "mean          0.500000      0.563458      0.525703      0.975259   \n",
      "std           0.500004      0.495960      0.499342      0.155336   \n",
      "min           0.000000      0.000000      0.000000      0.000000   \n",
      "25%           0.000000      0.000000      0.000000      1.000000   \n",
      "50%           0.500000      1.000000      1.000000      1.000000   \n",
      "75%           1.000000      1.000000      1.000000      1.000000   \n",
      "max           1.000000      1.000000      1.000000      1.000000   \n",
      "\n",
      "                BMI        Smoker        Stroke  HeartDiseaseorAttack  \\\n",
      "count  70692.000000  70692.000000  70692.000000          70692.000000   \n",
      "mean      29.856985      0.475273      0.062171              0.147810   \n",
      "std        7.113954      0.499392      0.241468              0.354914   \n",
      "min       12.000000      0.000000      0.000000              0.000000   \n",
      "25%       25.000000      0.000000      0.000000              0.000000   \n",
      "50%       29.000000      0.000000      0.000000              0.000000   \n",
      "75%       33.000000      1.000000      0.000000              0.000000   \n",
      "max       98.000000      1.000000      1.000000              1.000000   \n",
      "\n",
      "       PhysActivity        Fruits  ...  AnyHealthcare   NoDocbcCost  \\\n",
      "count  70692.000000  70692.000000  ...   70692.000000  70692.000000   \n",
      "mean       0.703036      0.611795  ...       0.954960      0.093914   \n",
      "std        0.456924      0.487345  ...       0.207394      0.291712   \n",
      "min        0.000000      0.000000  ...       0.000000      0.000000   \n",
      "25%        0.000000      0.000000  ...       1.000000      0.000000   \n",
      "50%        1.000000      1.000000  ...       1.000000      0.000000   \n",
      "75%        1.000000      1.000000  ...       1.000000      0.000000   \n",
      "max        1.000000      1.000000  ...       1.000000      1.000000   \n",
      "\n",
      "            GenHlth      MentHlth      PhysHlth      DiffWalk           Sex  \\\n",
      "count  70692.000000  70692.000000  70692.000000  70692.000000  70692.000000   \n",
      "mean       2.837082      3.752037      5.810417      0.252730      0.456997   \n",
      "std        1.113565      8.155627     10.062261      0.434581      0.498151   \n",
      "min        1.000000      0.000000      0.000000      0.000000      0.000000   \n",
      "25%        2.000000      0.000000      0.000000      0.000000      0.000000   \n",
      "50%        3.000000      0.000000      0.000000      0.000000      0.000000   \n",
      "75%        4.000000      2.000000      6.000000      1.000000      1.000000   \n",
      "max        5.000000     30.000000     30.000000      1.000000      1.000000   \n",
      "\n",
      "                Age     Education        Income  \n",
      "count  70692.000000  70692.000000  70692.000000  \n",
      "mean       8.584055      4.920953      5.698311  \n",
      "std        2.852153      1.029081      2.175196  \n",
      "min        1.000000      1.000000      1.000000  \n",
      "25%        7.000000      4.000000      4.000000  \n",
      "50%        9.000000      5.000000      6.000000  \n",
      "75%       11.000000      6.000000      8.000000  \n",
      "max       13.000000      6.000000      8.000000  \n",
      "\n",
      "[8 rows x 22 columns]\n"
     ]
    }
   ],
   "source": [
    "print(\"\\nSummary statistics:\")\n",
    "print(df.describe())"
   ]
  },
  {
   "cell_type": "code",
   "execution_count": null,
   "id": "89bfff78",
   "metadata": {},
   "outputs": [
    {
     "name": "stdout",
     "output_type": "stream",
     "text": [
      "\n",
      "Missing values per column:\n",
      "Diabetes_binary         0\n",
      "HighBP                  0\n",
      "HighChol                0\n",
      "CholCheck               0\n",
      "BMI                     0\n",
      "Smoker                  0\n",
      "Stroke                  0\n",
      "HeartDiseaseorAttack    0\n",
      "PhysActivity            0\n",
      "Fruits                  0\n",
      "Veggies                 0\n",
      "HvyAlcoholConsump       0\n",
      "AnyHealthcare           0\n",
      "NoDocbcCost             0\n",
      "GenHlth                 0\n",
      "MentHlth                0\n",
      "PhysHlth                0\n",
      "DiffWalk                0\n",
      "Sex                     0\n",
      "Age                     0\n",
      "Education               0\n",
      "Income                  0\n",
      "dtype: int64\n"
     ]
    }
   ],
   "source": [
    "# Count missing values in each column\n",
    "print(\"\\nMissing values per column:\")\n",
    "print(df.isnull().sum())"
   ]
  },
  {
   "cell_type": "code",
   "execution_count": null,
   "id": "d8a94c76",
   "metadata": {},
   "outputs": [
    {
     "name": "stdout",
     "output_type": "stream",
     "text": [
      "\n",
      "Number of duplicate rows: 1635\n"
     ]
    }
   ],
   "source": [
    "# Check for duplicate records\n",
    "print(\"\\nNumber of duplicate rows:\", df.duplicated().sum())"
   ]
  },
  {
   "cell_type": "markdown",
   "id": "945d7156",
   "metadata": {},
   "source": [
    "Clean Data"
   ]
  },
  {
   "cell_type": "code",
   "execution_count": null,
   "id": "43f0fe96",
   "metadata": {},
   "outputs": [
    {
     "name": "stdout",
     "output_type": "stream",
     "text": [
      "Dataset shape: (70692, 22)\n",
      "New shape: (69057, 22)\n"
     ]
    }
   ],
   "source": [
    "print(\"Dataset shape:\", df.shape)\n",
    "df = df.drop_duplicates()\n",
    "print(\"New shape:\", df.shape)"
   ]
  },
  {
   "cell_type": "markdown",
   "id": "2d431bfc",
   "metadata": {},
   "source": [
    "Split Data"
   ]
  },
  {
   "cell_type": "code",
   "execution_count": null,
   "id": "0fe42b9d",
   "metadata": {},
   "outputs": [],
   "source": [
    "#Transform target\n",
    "le = LabelEncoder()\n",
    "y = le.fit_transform(y)\n",
    "\n",
    "#Split Data\n",
    "X_train, X_test, y_train, y_test = train_test_split(X, y, test_size=0.8)\n",
    "\n",
    "#Scale Data\n",
    "scaler = MinMaxScaler()\n",
    "X_train_scaled = scaler.fit_transform(X_train)\n",
    "X_test_scaled = scaler.transform(X_test)\n",
    "\n",
    "#Reassign col names\n",
    "X_train_scaled = pd.DataFrame(X_train_scaled, columns=X.columns)\n",
    "X_test_scaled = pd.DataFrame(X_test_scaled, columns=X.columns)\n"
   ]
  },
  {
   "cell_type": "markdown",
   "id": "1151c8d0",
   "metadata": {},
   "source": [
    "Train Models"
   ]
  },
  {
   "cell_type": "code",
   "execution_count": null,
   "id": "244c6f8b",
   "metadata": {},
   "outputs": [
    {
     "name": "stdout",
     "output_type": "stream",
     "text": [
      "Decision Tree  Accuracy Score:  0.6567174735650882\n",
      "Decision Tree  Precision Score:  0.6571104172580188\n",
      "Decision Tree  Recalle Score:  0.6551114255394411\n",
      "Decision Tree  F1 Score:  0.6561093988025649\n",
      "Logistic Regression  Accuracy Score:  0.747444919899565\n",
      "Logistic Regression  Precision Score:  0.7357650945622493\n",
      "Logistic Regression  Recalle Score:  0.7720198089847895\n",
      "Logistic Regression  F1 Score:  0.7534565791517788\n",
      "K Nearest Neighbors  Accuracy Score:  0.6975280263111363\n",
      "K Nearest Neighbors  Precision Score:  0.6868514427261163\n",
      "K Nearest Neighbors  Recalle Score:  0.7258224266006367\n",
      "K Nearest Neighbors  F1 Score:  0.7057993946064942\n",
      "SVC  Accuracy Score:  0.7430950949534958\n",
      "SVC  Precision Score:  0.7180626527438347\n",
      "SVC  Recalle Score:  0.8002829854969933\n",
      "SVC  F1 Score:  0.7569466517222343\n"
     ]
    }
   ],
   "source": [
    "\n",
    "\n",
    "total_metrics = {}\n",
    "\n",
    "#train each model\n",
    "for name, model in models.items():\n",
    "    model.train(X_train_scaled, y_train)\n",
    "    metrics = model.predict(X_test_scaled, y_test)\n",
    "    total_metrics[name] = metrics\n",
    "    helpers.evaluate.print_stats(metrics, name)\n"
   ]
  },
  {
   "cell_type": "markdown",
   "id": "67b51f37",
   "metadata": {},
   "source": [
    "Report Stats"
   ]
  },
  {
   "cell_type": "code",
   "execution_count": null,
   "id": "cfdcae32",
   "metadata": {},
   "outputs": [
    {
     "name": "stdout",
     "output_type": "stream",
     "text": [
      "Best Model =  Logistic Regression\n",
      "Model Accuracy =  0.747444919899565\n"
     ]
    }
   ],
   "source": [
    "#Get best metrics\n",
    "bestModel = \"\"\n",
    "bestPerformance = 0\n",
    "for name, metrics in total_metrics.items():\n",
    "    if(metrics[0] > bestPerformance):\n",
    "        bestModel = name\n",
    "        bestPerformance = metrics[0]\n",
    "\n",
    "print(\"Best Model = \", bestModel)\n",
    "print(\"Model Accuracy = \", bestPerformance)\n"
   ]
  },
  {
   "cell_type": "markdown",
   "id": "d23fe1ca",
   "metadata": {},
   "source": [
    "Hyperparameter Tuning"
   ]
  },
  {
   "cell_type": "code",
   "execution_count": null,
   "id": "02c53546",
   "metadata": {},
   "outputs": [
    {
     "ename": "NameError",
     "evalue": "name 'models' is not defined",
     "output_type": "error",
     "traceback": [
      "\u001b[1;31m---------------------------------------------------------------------------\u001b[0m",
      "\u001b[1;31mNameError\u001b[0m                                 Traceback (most recent call last)",
      "Cell \u001b[1;32mIn[2], line 1\u001b[0m\n\u001b[1;32m----> 1\u001b[0m svc \u001b[38;5;241m=\u001b[39m models[\u001b[38;5;124m\"\u001b[39m\u001b[38;5;124mSVC\u001b[39m\u001b[38;5;124m\"\u001b[39m]\n\u001b[0;32m      2\u001b[0m svc\u001b[38;5;241m.\u001b[39mtune_hyperParams(X_test_scaled, y_test)\n",
      "\u001b[1;31mNameError\u001b[0m: name 'models' is not defined"
     ]
    }
   ],
   "source": [
    "svc = models[\"SVC\"]\n",
    "svc.tune_hyperParams(X_test_scaled, y_test)"
   ]
  }
 ],
 "metadata": {
  "kernelspec": {
   "display_name": "base",
   "language": "python",
   "name": "python3"
  },
  "language_info": {
   "codemirror_mode": {
    "name": "ipython",
    "version": 3
   },
   "file_extension": ".py",
   "mimetype": "text/x-python",
   "name": "python",
   "nbconvert_exporter": "python",
   "pygments_lexer": "ipython3",
   "version": "3.12.7"
  }
 },
 "nbformat": 4,
 "nbformat_minor": 5
}
